{
 "cells": [
  {
   "cell_type": "code",
   "execution_count": 3,
   "id": "bdb29efe",
   "metadata": {},
   "outputs": [],
   "source": [
    "class Coordinate:\n",
    "    \"\"\"Coordinate on Earth.\"\"\""
   ]
  },
  {
   "cell_type": "code",
   "execution_count": 4,
   "id": "2ba6fe9f",
   "metadata": {},
   "outputs": [],
   "source": []
  },
  {
   "cell_type": "code",
   "execution_count": 5,
   "id": "ccfb8933",
   "metadata": {},
   "outputs": [],
   "source": [
    "cle = Coordinate()\n",
    "cle.lat = 41.4\n",
    "cle.long = -81.8"
   ]
  },
  {
   "cell_type": "code",
   "execution_count": 6,
   "id": "f732c394",
   "metadata": {},
   "outputs": [
    {
     "data": {
      "text/plain": [
       "<__main__.Coordinate at 0x7fe3b0c96f40>"
      ]
     },
     "execution_count": 6,
     "metadata": {},
     "output_type": "execute_result"
    }
   ],
   "source": [
    "cle"
   ]
  },
  {
   "cell_type": "code",
   "execution_count": 7,
   "id": "a465c0db",
   "metadata": {},
   "outputs": [
    {
     "data": {
      "text/plain": [
       "41.4"
      ]
     },
     "execution_count": 7,
     "metadata": {},
     "output_type": "execute_result"
    }
   ],
   "source": [
    "cle.lat"
   ]
  },
  {
   "cell_type": "code",
   "execution_count": 8,
   "id": "19fbe37f",
   "metadata": {},
   "outputs": [
    {
     "data": {
      "text/plain": [
       "'<__main__.Coordinate object at 0x7fe3b0c96f40>'"
      ]
     },
     "execution_count": 8,
     "metadata": {},
     "output_type": "execute_result"
    }
   ],
   "source": [
    "cle.__repr__()"
   ]
  },
  {
   "cell_type": "raw",
   "id": "3ec6547f",
   "metadata": {},
   "source": [
    "repr(cle)"
   ]
  },
  {
   "cell_type": "code",
   "execution_count": 42,
   "id": "710cde58",
   "metadata": {},
   "outputs": [],
   "source": [
    "class Coordinate:\n",
    "    \"\"\"Coordinate on Earth.\"\"\"\n",
    "    \n",
    "    lat = 0.0\n",
    "    long = 0.0\n",
    "    \n",
    "    def __repr__(self):\n",
    "        return f'Coordinate({self.lat}, {self.long})'\n",
    "    \n",
    "    def __str__(self):\n",
    "        ns = 'NS'[self.lat < 0] #If lat is less than zero then evaluates to True, which == 1, therefore indexing 'NS'[1] == 'S'\n",
    "        we = 'EW'[self.long < 0]\n",
    "        return f'{abs(self.lat):.1f}°{ns}, {abs(self.long):.1f}°{we}'"
   ]
  },
  {
   "cell_type": "code",
   "execution_count": 32,
   "id": "5dfbba3d",
   "metadata": {},
   "outputs": [],
   "source": [
    "cle = Coordinate()\n",
    "cle.lat = 41.4\n",
    "cle.long = -81.8"
   ]
  },
  {
   "cell_type": "code",
   "execution_count": 33,
   "id": "2f908f62",
   "metadata": {},
   "outputs": [
    {
     "data": {
      "text/plain": [
       "Coordinate(41.4, -81.8)"
      ]
     },
     "execution_count": 33,
     "metadata": {},
     "output_type": "execute_result"
    }
   ],
   "source": [
    "cle"
   ]
  },
  {
   "cell_type": "code",
   "execution_count": 34,
   "id": "dc2f0471",
   "metadata": {},
   "outputs": [
    {
     "data": {
      "text/plain": [
       "'Coordinate(41.4, -81.8)'"
      ]
     },
     "execution_count": 34,
     "metadata": {},
     "output_type": "execute_result"
    }
   ],
   "source": [
    "repr(cle)"
   ]
  },
  {
   "cell_type": "code",
   "execution_count": 35,
   "id": "7650e491",
   "metadata": {},
   "outputs": [
    {
     "name": "stdout",
     "output_type": "stream",
     "text": [
      "41.4°N, 81.8°W\n"
     ]
    }
   ],
   "source": [
    "print(cle)"
   ]
  },
  {
   "cell_type": "code",
   "execution_count": 43,
   "id": "0a45325a",
   "metadata": {},
   "outputs": [
    {
     "name": "stdout",
     "output_type": "stream",
     "text": [
      "0.0°N, 0.0°E\n"
     ]
    }
   ],
   "source": [
    "gulf_of_guinea = Coordinate()\n",
    "try:\n",
    "    print(gulf_of_guinea)\n",
    "except AttributeError as e:\n",
    "    print(e)"
   ]
  },
  {
   "cell_type": "code",
   "execution_count": null,
   "id": "7ac4b752",
   "metadata": {},
   "outputs": [],
   "source": [
    "import geohash"
   ]
  },
  {
   "cell_type": "code",
   "execution_count": 44,
   "id": "72514a54",
   "metadata": {},
   "outputs": [],
   "source": [
    "class Pizza:\n",
    "    \n",
    "    diameter = 40 # cm\n",
    "    slices = 8\n",
    "    \n",
    "    def __init__(self, flavor=\"Cheese\", flavor2=None):\n",
    "        self.flavor = flavor # Best practice to place all instance attr in __init__\n",
    "        self.flavor2 = flavor2"
   ]
  },
  {
   "cell_type": "code",
   "execution_count": null,
   "id": "fcf39b39",
   "metadata": {},
   "outputs": [],
   "source": []
  }
 ],
 "metadata": {
  "kernelspec": {
   "display_name": "Python 3",
   "language": "python",
   "name": "python3"
  },
  "language_info": {
   "codemirror_mode": {
    "name": "ipython",
    "version": 3
   },
   "file_extension": ".py",
   "mimetype": "text/x-python",
   "name": "python",
   "nbconvert_exporter": "python",
   "pygments_lexer": "ipython3",
   "version": "3.8.10"
  }
 },
 "nbformat": 4,
 "nbformat_minor": 5
}
